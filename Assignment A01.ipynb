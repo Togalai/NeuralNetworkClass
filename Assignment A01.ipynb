{
 "cells": [
  {
   "cell_type": "markdown",
   "metadata": {},
   "source": [
    "## Problem A01-01\n",
    " For the Logistic activation function \n",
    "\n",
    "        OUT = 1/{1+e^-sigma(NET-b)}\n",
    "\n",
    " A. Plot the function for: sigma = 1.0, b = 0\n",
    " <br>\n",
    " B. Plot the function for: sigma = 1.0, b = 10\n",
    "  <br>\n",
    " C. Plot the function for: sigma = 0.2, b = 0\n",
    "  <br>\n",
    " D. How does the value of the bias term (b) in part B affect the logistic activation funtion as compared to that of part A?\n",
    "  <br>\n",
    " E. How does the steepness factor sigma in part C affect the logistic activation function as compared to that of part A?"
   ]
  },
  {
   "cell_type": "code",
   "execution_count": 81,
   "metadata": {
    "scrolled": true
   },
   "outputs": [
    {
     "name": "stdout",
     "output_type": "stream",
     "text": [
      "NET range\n",
      "[-24 -22 -20 -18 -16 -14 -12 -10  -8  -6  -4  -2   0   2   4   6   8  10\n",
      "  12  14  16  18  20  22]\n"
     ]
    },
    {
     "data": {
      "image/png": "[encoded data removed]",
      "text/plain": [
       "<matplotlib.figure.Figure at 0x2563287e048>"
      ]
     },
     "metadata": {},
     "output_type": "display_data"
    }
   ],
   "source": [
    "import numpy as np\n",
    "import matplotlib.pyplot as plt\n",
    "%matplotlib inline\n",
    "\n",
    "# Creating the NET range\n",
    "n = np.arange(-24,24,2)\n",
    "\n",
    "# A\n",
    "s = 1\n",
    "b = 0\n",
    "i = -s*(n-b)\n",
    "def sigma(x):\n",
    "    return 1 / (1 + np.exp(i))\n",
    "# B\n",
    "sb = 1\n",
    "bb = 10\n",
    "j = -sb*(n-bb)\n",
    "\n",
    "def sigmb(x):\n",
    "    return 1 / (1 + np.exp(j))\n",
    "# C\n",
    "sc = 0.2\n",
    "bc = 0\n",
    "k = -sc*(n-bc)\n",
    "\n",
    "def sigmc(x):\n",
    "    return 1 / (1 + np.exp(k))\n",
    "\n",
    "# Showing the values of NET (n)\n",
    "print('NET range')\n",
    "print(n)\n",
    "\n",
    "# Below creates the graph with all three sigmoid functions plotted on it\n",
    "plt.plot(n,sigma(n),color='blue')\n",
    "plt.plot(n,sigmb(n),color='purple')\n",
    "plt.plot(n,sigmc(n),color='yellow')\n",
    "plt.title('Logistic Activation Function')\n",
    "plt.xlabel('Input')\n",
    "plt.ylabel('Output') \n",
    "plt.grid()\n",
    "plt.show()"
   ]
  },
  {
   "cell_type": "code",
   "execution_count": 69,
   "metadata": {
    "scrolled": true
   },
   "outputs": [
    {
     "name": "stdout",
     "output_type": "stream",
     "text": [
      "OUT-A\n",
      "[3.77513454e-11 2.78946809e-10 2.06115362e-09 1.52299795e-08\n",
      " 1.12535162e-07 8.31528028e-07 6.14417460e-06 4.53978687e-05\n",
      " 3.35350130e-04 2.47262316e-03 1.79862100e-02 1.19202922e-01\n",
      " 5.00000000e-01 8.80797078e-01 9.82013790e-01 9.97527377e-01\n",
      " 9.99664650e-01 9.99954602e-01 9.99993856e-01 9.99999168e-01\n",
      " 9.99999887e-01 9.99999985e-01 9.99999998e-01 1.00000000e+00]\n",
      "OUT-B\n",
      "[1.71390843e-15 1.26641655e-14 9.35762297e-14 6.91440011e-13\n",
      " 5.10908903e-12 3.77513454e-11 2.78946809e-10 2.06115362e-09\n",
      " 1.52299795e-08 1.12535162e-07 8.31528028e-07 6.14417460e-06\n",
      " 4.53978687e-05 3.35350130e-04 2.47262316e-03 1.79862100e-02\n",
      " 1.19202922e-01 5.00000000e-01 8.80797078e-01 9.82013790e-01\n",
      " 9.97527377e-01 9.99664650e-01 9.99954602e-01 9.99993856e-01]\n",
      "OUT-C\n",
      "[0.00816257 0.01212843 0.01798621 0.02659699 0.03916572 0.05732418\n",
      " 0.0831727  0.11920292 0.16798161 0.23147522 0.31002552 0.40131234\n",
      " 0.5        0.59868766 0.68997448 0.76852478 0.83201839 0.88079708\n",
      " 0.9168273  0.94267582 0.96083428 0.97340301 0.98201379 0.98787157]\n"
     ]
    }
   ],
   "source": [
    "# Printing out the values of OUT-A through OUT-C to proof the values\n",
    "print('OUT-A')\n",
    "print(sigma(i))\n",
    "print('OUT-B')\n",
    "print(sigmb(j))\n",
    "print('OUT-C')\n",
    "print(sigmc(k));"
   ]
  },
  {
   "cell_type": "markdown",
   "metadata": {},
   "source": [
    "## Problem A01-02\n",
    "\n",
    "Determine the outputs of (Y1, Y2, Y3) for the network below using:\n",
    "\n",
    " A. The logistic activation function OUT = 1/{1+e^-sigma(NET-b)}; sigma = 1.0, b = 0\n",
    "  <br>\n",
    " B. The binary threshold activation function with T = 0.10; OUT = 1 for NET >= T\n"
   ]
  },
  {
   "cell_type": "code",
   "execution_count": 79,
   "metadata": {},
   "outputs": [
    {
     "name": "stdout",
     "output_type": "stream",
     "text": [
      "[ 0.13  0.03 -1.12]\n"
     ]
    }
   ],
   "source": [
    "s = 1\n",
    "b = 0\n",
    "i = -s*(j-b)\n",
    "\n",
    "def sigmj(x):\n",
    "    return 1 / (1 + np.exp(i))\n",
    "\n",
    "# x1, x2 as inputs to the network\n",
    "x = np.array([0.20, 0.70])\n",
    "\n",
    "# Weights across the network\n",
    "w = np.array([[2.4, -0.20, 1.40], \n",
    "              [-0.50, 0.10, -2.00]])\n",
    "\n",
    "# Multiply the matricies \n",
    "j = np.matmul(x,w)\n",
    "print(j)"
   ]
  },
  {
   "cell_type": "code",
   "execution_count": 80,
   "metadata": {},
   "outputs": [
    {
     "name": "stdout",
     "output_type": "stream",
     "text": [
      "y1, y2, y3\n",
      "[0.53245431 0.50749944 0.24601128]\n"
     ]
    }
   ],
   "source": [
    "# Apply the logistic activation function\n",
    "OUTj = sigmj(j)\n",
    "print('y1, y2, y3')\n",
    "print(OUTj)"
   ]
  },
  {
   "cell_type": "markdown",
   "metadata": {},
   "source": [
    "## Problem A01-03\n",
    "\n",
    "Using a two- layer feed-forward network with linear activation functions shown below:\n",
    "\n",
    "   A. Show the equivalent single layer network, including its architecture, the values for its interconnection weights, and the  value of the constant for the linear activation on its processing elements.\n",
    "      <br>\n",
    "   B. Calculate the values of y1 and y2 using both the two layer network and the equivalent single layer network. Show all calculations for the NET and OUT at each processing element.\n",
    "   <br>\n",
    "   <br>\n",
    "   OUTj = C*NETj were C = 0.50\n",
    "   "
   ]
  },
  {
   "cell_type": "code",
   "execution_count": 88,
   "metadata": {},
   "outputs": [
    {
     "name": "stdout",
     "output_type": "stream",
     "text": [
      "NETj\n",
      "[18. -2.]\n",
      "\n",
      "OUTj\n",
      "[ 9. -1.]\n",
      "\n",
      "NETk\n",
      "[  5. -32.]\n",
      "\n",
      "OUTk\n",
      "[  2.5 -16. ]\n"
     ]
    }
   ],
   "source": [
    "c = 0.50\n",
    "\n",
    "# Inputs\n",
    "x03 = np.array([6.00, 2.00])\n",
    "\n",
    "# Network weights\n",
    "w1 = np.array([[2.00, -1.00], \n",
    "              [3.00, 2.00]])\n",
    "\n",
    "w2 = np.array([[1.00, -3.00], \n",
    "              [4.00, 5.00]])\n",
    "\n",
    "j03 = np.matmul(x03,w1)\n",
    "print('NETj')\n",
    "print(j03)\n",
    "\n",
    "oj03 = j03*c\n",
    "print('\\nOUTj')\n",
    "print(oj03)\n",
    "\n",
    "k03 = np.matmul(oj03,w2)\n",
    "print('\\nNETk')\n",
    "print(k03)\n",
    "\n",
    "ok03 = k03*c\n",
    "print('\\nOUTk')\n",
    "print(ok03)"
   ]
  },
  {
   "cell_type": "code",
   "execution_count": 89,
   "metadata": {},
   "outputs": [
    {
     "name": "stdout",
     "output_type": "stream",
     "text": [
      "Single Layer Network Values\n",
      "[[ -2. -11.]\n",
      " [ 11.   1.]]\n",
      "\n",
      "Single Cost Value\n",
      "0.25\n"
     ]
    }
   ],
   "source": [
    "js03 = np.matmul(w1,w2)\n",
    "cs = c*c\n",
    "\n",
    "print('Single Layer Network Values')\n",
    "print(js03)\n",
    "print('\\nSingle Cost Value')\n",
    "print(cs)"
   ]
  },
  {
   "cell_type": "code",
   "execution_count": 91,
   "metadata": {},
   "outputs": [
    {
     "name": "stdout",
     "output_type": "stream",
     "text": [
      "NETj Single Layer\n",
      "[ 10. -64.]\n",
      "\n",
      "OUTj Single Layer\n",
      "[  2.5 -16. ]\n"
     ]
    }
   ],
   "source": [
    "NETjs = np.matmul(x03,js03)\n",
    "\n",
    "print('NETj Single Layer')\n",
    "print(NETjs)\n",
    "\n",
    "OUTjs = NETjs*cs\n",
    "\n",
    "print('\\nOUTj Single Layer')\n",
    "print(OUTjs)"
   ]
  }
 ],
 "metadata": {
  "kernelspec": {
   "display_name": "Python 3",
   "language": "python",
   "name": "python3"
  },
  "language_info": {
   "codemirror_mode": {
    "name": "ipython",
    "version": 3
   },
   "file_extension": ".py",
   "mimetype": "text/x-python",
   "name": "python",
   "nbconvert_exporter": "python",
   "pygments_lexer": "ipython3",
   "version": "3.6.3"
  }
 },
 "nbformat": 4,
 "nbformat_minor": 2
}
